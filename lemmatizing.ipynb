{
 "cells": [
  {
   "cell_type": "code",
   "execution_count": 26,
   "id": "7ce287ea-0fcf-4a30-9aa7-0b7b418f223f",
   "metadata": {},
   "outputs": [
    {
     "name": "stderr",
     "output_type": "stream",
     "text": [
      "[nltk_data] Downloading package wordnet to C:\\Users\\lord of the\n",
      "[nltk_data]     noobs\\AppData\\Roaming\\nltk_data...\n",
      "[nltk_data]   Package wordnet is already up-to-date!\n"
     ]
    },
    {
     "data": {
      "text/plain": [
       "True"
      ]
     },
     "execution_count": 26,
     "metadata": {},
     "output_type": "execute_result"
    }
   ],
   "source": [
    "import nltk\n",
    "from nltk.stem import WordNetLemmatizer\n",
    "nltk.download('wordnet')\n",
    "#if first time use \"wordnet\" you should download it \n",
    "#wordnet its big database for english language"
   ]
  },
  {
   "cell_type": "code",
   "execution_count": 35,
   "id": "3b0f6438-4e25-4d4b-af29-2c8ec1c9d631",
   "metadata": {},
   "outputs": [
    {
     "name": "stdout",
     "output_type": "stream",
     "text": [
      "air\n",
      "sheep\n",
      "netowrking\n"
     ]
    }
   ],
   "source": [
    "\n",
    "lemmatizer = WordNetLemmatizer()\n",
    "\n",
    "print(lemmatizer.lemmatize(\"airs\"))\n",
    "\n",
    "\n",
    "print(lemmatizer.lemmatize(\"sheeps\"))\n",
    "\n",
    "print(lemmatizer.lemmatize(\"netowrking\"))\n"
   ]
  },
  {
   "cell_type": "code",
   "execution_count": null,
   "id": "6bfabb30-774e-4a54-a47f-b5aeadf0390e",
   "metadata": {},
   "outputs": [],
   "source": []
  }
 ],
 "metadata": {
  "kernelspec": {
   "display_name": "Python 3",
   "language": "python",
   "name": "python3"
  },
  "language_info": {
   "codemirror_mode": {
    "name": "ipython",
    "version": 3
   },
   "file_extension": ".py",
   "mimetype": "text/x-python",
   "name": "python",
   "nbconvert_exporter": "python",
   "pygments_lexer": "ipython3",
   "version": "3.9.6"
  }
 },
 "nbformat": 4,
 "nbformat_minor": 5
}
