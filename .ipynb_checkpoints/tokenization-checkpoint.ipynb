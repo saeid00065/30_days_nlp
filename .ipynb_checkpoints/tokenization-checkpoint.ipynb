{
 "cells": [
  {
   "cell_type": "code",
   "execution_count": 3,
   "id": "31f5c2d9",
   "metadata": {},
   "outputs": [],
   "source": [
    "#first import lib \n",
    "import nltk \n",
    "from nltk.tokenize import word_tokenize"
   ]
  },
  {
   "cell_type": "code",
   "execution_count": 5,
   "id": "690666be",
   "metadata": {},
   "outputs": [
    {
     "name": "stdout",
     "output_type": "stream",
     "text": [
      "['Our', 'newest', 'course', 'is', 'a', 'code-first', 'introduction', 'to', 'NLP', ',', 'following', 'the', 'fast.ai', 'teaching', 'philosophy', 'of', 'sharing']\n"
     ]
    },
    {
     "data": {
      "text/plain": [
       "['Our',\n",
       " 'newest',\n",
       " 'course',\n",
       " 'is',\n",
       " 'a',\n",
       " 'code-first',\n",
       " 'introduction',\n",
       " 'to',\n",
       " 'NLP,',\n",
       " 'following',\n",
       " 'the',\n",
       " 'fast.ai',\n",
       " 'teaching',\n",
       " 'philosophy',\n",
       " 'of',\n",
       " 'sharing']"
      ]
     },
     "execution_count": 5,
     "metadata": {},
     "output_type": "execute_result"
    }
   ],
   "source": [
    "#first example about tokenization \n",
    "#enter the some words you want to tokenize\n",
    "\n",
    "somewords = \"Our newest course is a code-first introduction to NLP, following the fast.ai teaching philosophy of sharing\" \n",
    "\n",
    "token = word_tokenize(somewords)\n",
    "#word_tokenize is funcation and you can call With \"word_tokenize(Variable)\" in nltk\n",
    "print(token)\n",
    "#tokenization its mean split the sentence by whitespace\n",
    "\n",
    "somewords.split()\n",
    "#its simplest way to tokenization "
   ]
  },
  {
   "cell_type": "code",
   "execution_count": null,
   "id": "89c96627",
   "metadata": {},
   "outputs": [],
   "source": []
  }
 ],
 "metadata": {
  "kernelspec": {
   "display_name": "Python 3",
   "language": "python",
   "name": "python3"
  },
  "language_info": {
   "codemirror_mode": {
    "name": "ipython",
    "version": 3
   },
   "file_extension": ".py",
   "mimetype": "text/x-python",
   "name": "python",
   "nbconvert_exporter": "python",
   "pygments_lexer": "ipython3",
   "version": "3.9.6"
  }
 },
 "nbformat": 4,
 "nbformat_minor": 5
}
